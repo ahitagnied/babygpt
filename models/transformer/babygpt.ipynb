{
 "cells": [
  {
   "cell_type": "code",
   "execution_count": 24,
   "metadata": {},
   "outputs": [],
   "source": [
    "import torch"
   ]
  },
  {
   "cell_type": "code",
   "execution_count": 3,
   "metadata": {},
   "outputs": [],
   "source": [
    "# Read the txt file \n",
    "with open('input.txt', 'r', encoding='utf-8') as f:\n",
    "    text = f.read()"
   ]
  },
  {
   "cell_type": "code",
   "execution_count": 4,
   "metadata": {},
   "outputs": [
    {
     "name": "stdout",
     "output_type": "stream",
     "text": [
      "Total number of characters in the dataset: 1115394\n"
     ]
    }
   ],
   "source": [
    "print(\"Total number of characters in the dataset:\", len(text))"
   ]
  },
  {
   "cell_type": "code",
   "execution_count": 6,
   "metadata": {},
   "outputs": [
    {
     "name": "stdout",
     "output_type": "stream",
     "text": [
      "All characters are: \n",
      " !$&',-.3:;?ABCDEFGHIJKLMNOPQRSTUVWXYZabcdefghijklmnopqrstuvwxyz ; and total number of characters:  65\n"
     ]
    }
   ],
   "source": [
    "# Find all the characters that occur in the dataset\n",
    "chars = sorted(list(set(text))) # set(text) returns all characters that occur, list converts it to a list which is then sorted\n",
    "vocab = len(chars) # Total number of characters we are dealing with \n",
    "\n",
    "print(\"All characters are:\", ''.join(chars), \"; and total number of characters: \", vocab)"
   ]
  },
  {
   "cell_type": "code",
   "execution_count": 12,
   "metadata": {},
   "outputs": [
    {
     "name": "stdout",
     "output_type": "stream",
     "text": [
      "{'\\n': 0, ' ': 1, '!': 2, '$': 3, '&': 4, \"'\": 5, ',': 6, '-': 7, '.': 8, '3': 9, ':': 10, ';': 11, '?': 12, 'A': 13, 'B': 14, 'C': 15, 'D': 16, 'E': 17, 'F': 18, 'G': 19, 'H': 20, 'I': 21, 'J': 22, 'K': 23, 'L': 24, 'M': 25, 'N': 26, 'O': 27, 'P': 28, 'Q': 29, 'R': 30, 'S': 31, 'T': 32, 'U': 33, 'V': 34, 'W': 35, 'X': 36, 'Y': 37, 'Z': 38, 'a': 39, 'b': 40, 'c': 41, 'd': 42, 'e': 43, 'f': 44, 'g': 45, 'h': 46, 'i': 47, 'j': 48, 'k': 49, 'l': 50, 'm': 51, 'n': 52, 'o': 53, 'p': 54, 'q': 55, 'r': 56, 's': 57, 't': 58, 'u': 59, 'v': 60, 'w': 61, 'x': 62, 'y': 63, 'z': 64}\n"
     ]
    }
   ],
   "source": [
    "print({ch:i for i, ch in enumerate(chars)})"
   ]
  },
  {
   "cell_type": "code",
   "execution_count": 19,
   "metadata": {},
   "outputs": [
    {
     "name": "stdout",
     "output_type": "stream",
     "text": [
      "{'\\n': 0, ' ': 1, '!': 2, '$': 3, '&': 4, \"'\": 5, ',': 6, '-': 7, '.': 8, '3': 9, ':': 10, ';': 11, '?': 12, 'A': 13, 'B': 14, 'C': 15, 'D': 16, 'E': 17, 'F': 18, 'G': 19, 'H': 20, 'I': 21, 'J': 22, 'K': 23, 'L': 24, 'M': 25, 'N': 26, 'O': 27, 'P': 28, 'Q': 29, 'R': 30, 'S': 31, 'T': 32, 'U': 33, 'V': 34, 'W': 35, 'X': 36, 'Y': 37, 'Z': 38, 'a': 39, 'b': 40, 'c': 41, 'd': 42, 'e': 43, 'f': 44, 'g': 45, 'h': 46, 'i': 47, 'j': 48, 'k': 49, 'l': 50, 'm': 51, 'n': 52, 'o': 53, 'p': 54, 'q': 55, 'r': 56, 's': 57, 't': 58, 'u': 59, 'v': 60, 'w': 61, 'x': 62, 'y': 63, 'z': 64}\n",
      "{0: '\\n', 1: ' ', 2: '!', 3: '$', 4: '&', 5: \"'\", 6: ',', 7: '-', 8: '.', 9: '3', 10: ':', 11: ';', 12: '?', 13: 'A', 14: 'B', 15: 'C', 16: 'D', 17: 'E', 18: 'F', 19: 'G', 20: 'H', 21: 'I', 22: 'J', 23: 'K', 24: 'L', 25: 'M', 26: 'N', 27: 'O', 28: 'P', 29: 'Q', 30: 'R', 31: 'S', 32: 'T', 33: 'U', 34: 'V', 35: 'W', 36: 'X', 37: 'Y', 38: 'Z', 39: 'a', 40: 'b', 41: 'c', 42: 'd', 43: 'e', 44: 'f', 45: 'g', 46: 'h', 47: 'i', 48: 'j', 49: 'k', 50: 'l', 51: 'm', 52: 'n', 53: 'o', 54: 'p', 55: 'q', 56: 'r', 57: 's', 58: 't', 59: 'u', 60: 'v', 61: 'w', 62: 'x', 63: 'y', 64: 'z'}\n"
     ]
    }
   ],
   "source": [
    "# Character Level Tokenizer, letters -> numbers \n",
    "to_int = {ch:i for i, ch in enumerate(chars)} # Each letter is mapped to an integer \n",
    "to_str = {i:ch for i, ch in enumerate(chars)} # Each letter is mapped to an integer \n",
    "\n",
    "print(to_int)\n",
    "print(to_str)"
   ]
  },
  {
   "cell_type": "code",
   "execution_count": 23,
   "metadata": {},
   "outputs": [],
   "source": [
    "encode = lambda s: [to_int[c] for c in s] # Encoder\n",
    "decode = lambda i: ''.join([to_str[n] for n in i]) # Decoder "
   ]
  },
  {
   "cell_type": "code",
   "execution_count": 33,
   "metadata": {},
   "outputs": [
    {
     "data": {
      "text/plain": [
       "tensor([18, 47, 56, 57, 58,  1, 15, 47, 58, 47, 64, 43, 52, 10,  0, 14, 43, 44,\n",
       "        53, 56, 43,  1, 61, 43,  1, 54, 56, 53, 41, 43, 43, 42,  1, 39, 52, 63,\n",
       "         1, 44, 59, 56, 58, 46, 43, 56,  6,  1, 46, 43, 39, 56,  1, 51, 43,  1,\n",
       "        57, 54, 43, 39, 49,  8,  0,  0, 13, 50, 50, 10,  0, 31, 54, 43, 39, 49,\n",
       "         6,  1, 57, 54, 43, 39, 49,  8,  0,  0, 18, 47, 56, 57, 58,  1, 15, 47,\n",
       "        58, 47, 64, 43, 52, 10,  0, 37, 53, 59])"
      ]
     },
     "execution_count": 33,
     "metadata": {},
     "output_type": "execute_result"
    }
   ],
   "source": [
    "# Encode the entire dataset and store it into a tensor\n",
    "data = torch.tensor(encode(text), dtype=torch.long)\n",
    "data[:100]"
   ]
  },
  {
   "cell_type": "code",
   "execution_count": 35,
   "metadata": {},
   "outputs": [],
   "source": [
    "# Train/ Validation Split \n",
    "n = int(0.9 * len(data))\n",
    "train = data[:n]\n",
    "validation = data[n:]"
   ]
  },
  {
   "cell_type": "code",
   "execution_count": 68,
   "metadata": {},
   "outputs": [
    {
     "name": "stdout",
     "output_type": "stream",
     "text": [
      "inputs\n",
      "torch.Size([4, 8])\n",
      "tensor([[24, 43, 58,  5, 57,  1, 46, 43],\n",
      "        [44, 53, 56,  1, 58, 46, 39, 58],\n",
      "        [52, 58,  1, 58, 46, 39, 58,  1],\n",
      "        [25, 17, 27, 10,  0, 21,  1, 54]])\n",
      "\n",
      "\n",
      "targets\n",
      "torch.Size([4, 8])\n",
      "tensor([[43, 58,  5, 57,  1, 46, 43, 39],\n",
      "        [53, 56,  1, 58, 46, 39, 58,  1],\n",
      "        [58,  1, 58, 46, 39, 58,  1, 46],\n",
      "        [17, 27, 10,  0, 21,  1, 54, 39]])\n",
      "\n",
      "\n",
      "Context: [24]; target: 43\n",
      "Context: [24, 43]; target: 58\n",
      "Context: [24, 43, 58]; target: 5\n",
      "Context: [24, 43, 58, 5]; target: 57\n",
      "Context: [24, 43, 58, 5, 57]; target: 1\n",
      "Context: [24, 43, 58, 5, 57, 1]; target: 46\n",
      "Context: [24, 43, 58, 5, 57, 1, 46]; target: 43\n",
      "Context: [24, 43, 58, 5, 57, 1, 46, 43]; target: 39\n",
      "Context: [44]; target: 53\n",
      "Context: [44, 53]; target: 56\n",
      "Context: [44, 53, 56]; target: 1\n",
      "Context: [44, 53, 56, 1]; target: 58\n",
      "Context: [44, 53, 56, 1, 58]; target: 46\n",
      "Context: [44, 53, 56, 1, 58, 46]; target: 39\n",
      "Context: [44, 53, 56, 1, 58, 46, 39]; target: 58\n",
      "Context: [44, 53, 56, 1, 58, 46, 39, 58]; target: 1\n",
      "Context: [52]; target: 58\n",
      "Context: [52, 58]; target: 1\n",
      "Context: [52, 58, 1]; target: 58\n",
      "Context: [52, 58, 1, 58]; target: 46\n",
      "Context: [52, 58, 1, 58, 46]; target: 39\n",
      "Context: [52, 58, 1, 58, 46, 39]; target: 58\n",
      "Context: [52, 58, 1, 58, 46, 39, 58]; target: 1\n",
      "Context: [52, 58, 1, 58, 46, 39, 58, 1]; target: 46\n",
      "Context: [25]; target: 17\n",
      "Context: [25, 17]; target: 27\n",
      "Context: [25, 17, 27]; target: 10\n",
      "Context: [25, 17, 27, 10]; target: 0\n",
      "Context: [25, 17, 27, 10, 0]; target: 21\n",
      "Context: [25, 17, 27, 10, 0, 21]; target: 1\n",
      "Context: [25, 17, 27, 10, 0, 21, 1]; target: 54\n",
      "Context: [25, 17, 27, 10, 0, 21, 1, 54]; target: 39\n"
     ]
    }
   ],
   "source": [
    "torch.manual_seed(1337)\n",
    "\n",
    "batch = 4 # Total number of independent processes that will simultaneously run on the GPU\n",
    "block = 8 # Maximum context length that the transformer is going to get\n",
    "\n",
    "def get_batch(split):\n",
    "    # Generate a batch of inputs x and targets y\n",
    "    data = train if split == \"train\" else validation\n",
    "    idxs = torch.randint(len(data)-8, (batch, ))\n",
    "    x = torch.stack([data[i:i+block] for i in idxs])\n",
    "    y = torch.stack([data[i+1:i+block+1] for i in idxs])\n",
    "    return x, y\n",
    "\n",
    "xb, yb = get_batch('train')\n",
    "print('inputs')\n",
    "print(xb.shape)\n",
    "print(xb)\n",
    "print('\\n')\n",
    "print('targets')\n",
    "print(yb.shape)\n",
    "print(yb)\n",
    "print('\\n')\n",
    "\n",
    "for b in range(batch):\n",
    "    for i in range(block): \n",
    "        context = xb[b, :i+1]\n",
    "        target = yb[b, i]\n",
    "        print(f\"Context: {context.tolist()}; target: {target}\")"
   ]
  },
  {
   "cell_type": "code",
   "execution_count": 58,
   "metadata": {},
   "outputs": [
    {
     "data": {
      "text/plain": [
       "tensor([2, 1, 6, 5, 9])"
      ]
     },
     "execution_count": 58,
     "metadata": {},
     "output_type": "execute_result"
    }
   ],
   "source": [
    "# Bigram Language Model\n",
    "import torch.nn as nn\n",
    "import torch.nn.functional as F\n",
    "torch.manual_seed(1337)\n",
    "\n",
    "class BigramModel(nn.Module):\n",
    "    def __init__(self):\n",
    "        super().__init__()\n",
    "        "
   ]
  }
 ],
 "metadata": {
  "kernelspec": {
   "display_name": "base",
   "language": "python",
   "name": "python3"
  },
  "language_info": {
   "codemirror_mode": {
    "name": "ipython",
    "version": 3
   },
   "file_extension": ".py",
   "mimetype": "text/x-python",
   "name": "python",
   "nbconvert_exporter": "python",
   "pygments_lexer": "ipython3",
   "version": "3.10.14"
  }
 },
 "nbformat": 4,
 "nbformat_minor": 2
}
